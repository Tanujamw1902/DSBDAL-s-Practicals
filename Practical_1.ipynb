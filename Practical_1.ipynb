{
 "cells": [
  {
   "cell_type": "code",
   "execution_count": 1,
   "id": "f7890a1f",
   "metadata": {},
   "outputs": [
    {
     "name": "stdout",
     "output_type": "stream",
     "text": [
      "Requirement already satisfied: pandas in c:\\users\\tanuja\\desktop\\jupyter notebook\\lib\\site-packages (2.0.3)\n",
      "Requirement already satisfied: python-dateutil>=2.8.2 in c:\\users\\tanuja\\desktop\\jupyter notebook\\lib\\site-packages (from pandas) (2.8.2)\n",
      "Requirement already satisfied: pytz>=2020.1 in c:\\users\\tanuja\\desktop\\jupyter notebook\\lib\\site-packages (from pandas) (2023.3.post1)\n",
      "Requirement already satisfied: tzdata>=2022.1 in c:\\users\\tanuja\\desktop\\jupyter notebook\\lib\\site-packages (from pandas) (2023.3)\n",
      "Requirement already satisfied: numpy>=1.21.0 in c:\\users\\tanuja\\desktop\\jupyter notebook\\lib\\site-packages (from pandas) (1.24.3)\n",
      "Requirement already satisfied: six>=1.5 in c:\\users\\tanuja\\desktop\\jupyter notebook\\lib\\site-packages (from python-dateutil>=2.8.2->pandas) (1.16.0)\n",
      "Could not fetch URL https://pypi.org/simple/pip/: There was a problem confirming the ssl certificate: HTTPSConnectionPool(host='pypi.org', port=443): Max retries exceeded with url: /simple/pip/ (Caused by SSLError(SSLCertVerificationError(1, '[SSL: CERTIFICATE_VERIFY_FAILED] certificate verify failed: unable to get local issuer certificate (_ssl.c:1006)'))) - skipping\n"
     ]
    }
   ],
   "source": [
    "! pip install pandas"
   ]
  },
  {
   "cell_type": "code",
   "execution_count": 2,
   "id": "d5f73ace",
   "metadata": {},
   "outputs": [],
   "source": [
    "import pandas as pd"
   ]
  },
  {
   "cell_type": "code",
   "execution_count": 3,
   "id": "3b0a02aa",
   "metadata": {},
   "outputs": [],
   "source": [
    "df = pd.read_csv('C:/Users/Tanuja/Desktop/Datasets/movies.csv')"
   ]
  },
  {
   "cell_type": "code",
   "execution_count": 4,
   "id": "a9488e08",
   "metadata": {},
   "outputs": [
    {
     "name": "stdout",
     "output_type": "stream",
     "text": [
      "Information of Dataset:\n",
      " <bound method DataFrame.info of       movieId                                      title  \\\n",
      "0           1                           Toy Story (1995)   \n",
      "1           2                             Jumanji (1995)   \n",
      "2           3                    Grumpier Old Men (1995)   \n",
      "3           4                   Waiting to Exhale (1995)   \n",
      "4           5         Father of the Bride Part II (1995)   \n",
      "...       ...                                        ...   \n",
      "9737   193581  Black Butler: Book of the Atlantic (2017)   \n",
      "9738   193583               No Game No Life: Zero (2017)   \n",
      "9739   193585                               Flint (2017)   \n",
      "9740   193587        Bungo Stray Dogs: Dead Apple (2018)   \n",
      "9741   193609        Andrew Dice Clay: Dice Rules (1991)   \n",
      "\n",
      "                                           genres  \n",
      "0     Adventure|Animation|Children|Comedy|Fantasy  \n",
      "1                      Adventure|Children|Fantasy  \n",
      "2                                  Comedy|Romance  \n",
      "3                            Comedy|Drama|Romance  \n",
      "4                                          Comedy  \n",
      "...                                           ...  \n",
      "9737              Action|Animation|Comedy|Fantasy  \n",
      "9738                     Animation|Comedy|Fantasy  \n",
      "9739                                        Drama  \n",
      "9740                             Action|Animation  \n",
      "9741                                       Comedy  \n",
      "\n",
      "[9742 rows x 3 columns]>\n"
     ]
    }
   ],
   "source": [
    "print('Information of Dataset:\\n', df.info)"
   ]
  },
  {
   "cell_type": "code",
   "execution_count": 5,
   "id": "6d073f77",
   "metadata": {},
   "outputs": [
    {
     "data": {
      "text/html": [
       "<div>\n",
       "<style scoped>\n",
       "    .dataframe tbody tr th:only-of-type {\n",
       "        vertical-align: middle;\n",
       "    }\n",
       "\n",
       "    .dataframe tbody tr th {\n",
       "        vertical-align: top;\n",
       "    }\n",
       "\n",
       "    .dataframe thead th {\n",
       "        text-align: right;\n",
       "    }\n",
       "</style>\n",
       "<table border=\"1\" class=\"dataframe\">\n",
       "  <thead>\n",
       "    <tr style=\"text-align: right;\">\n",
       "      <th></th>\n",
       "      <th>movieId</th>\n",
       "      <th>title</th>\n",
       "      <th>genres</th>\n",
       "    </tr>\n",
       "  </thead>\n",
       "  <tbody>\n",
       "    <tr>\n",
       "      <th>0</th>\n",
       "      <td>1</td>\n",
       "      <td>Toy Story (1995)</td>\n",
       "      <td>Adventure|Animation|Children|Comedy|Fantasy</td>\n",
       "    </tr>\n",
       "    <tr>\n",
       "      <th>1</th>\n",
       "      <td>2</td>\n",
       "      <td>Jumanji (1995)</td>\n",
       "      <td>Adventure|Children|Fantasy</td>\n",
       "    </tr>\n",
       "    <tr>\n",
       "      <th>2</th>\n",
       "      <td>3</td>\n",
       "      <td>Grumpier Old Men (1995)</td>\n",
       "      <td>Comedy|Romance</td>\n",
       "    </tr>\n",
       "    <tr>\n",
       "      <th>3</th>\n",
       "      <td>4</td>\n",
       "      <td>Waiting to Exhale (1995)</td>\n",
       "      <td>Comedy|Drama|Romance</td>\n",
       "    </tr>\n",
       "    <tr>\n",
       "      <th>4</th>\n",
       "      <td>5</td>\n",
       "      <td>Father of the Bride Part II (1995)</td>\n",
       "      <td>Comedy</td>\n",
       "    </tr>\n",
       "  </tbody>\n",
       "</table>\n",
       "</div>"
      ],
      "text/plain": [
       "   movieId                               title  \\\n",
       "0        1                    Toy Story (1995)   \n",
       "1        2                      Jumanji (1995)   \n",
       "2        3             Grumpier Old Men (1995)   \n",
       "3        4            Waiting to Exhale (1995)   \n",
       "4        5  Father of the Bride Part II (1995)   \n",
       "\n",
       "                                        genres  \n",
       "0  Adventure|Animation|Children|Comedy|Fantasy  \n",
       "1                   Adventure|Children|Fantasy  \n",
       "2                               Comedy|Romance  \n",
       "3                         Comedy|Drama|Romance  \n",
       "4                                       Comedy  "
      ]
     },
     "execution_count": 5,
     "metadata": {},
     "output_type": "execute_result"
    }
   ],
   "source": [
    "df.head()"
   ]
  },
  {
   "cell_type": "code",
   "execution_count": 6,
   "id": "066c931d",
   "metadata": {},
   "outputs": [
    {
     "data": {
      "text/html": [
       "<div>\n",
       "<style scoped>\n",
       "    .dataframe tbody tr th:only-of-type {\n",
       "        vertical-align: middle;\n",
       "    }\n",
       "\n",
       "    .dataframe tbody tr th {\n",
       "        vertical-align: top;\n",
       "    }\n",
       "\n",
       "    .dataframe thead th {\n",
       "        text-align: right;\n",
       "    }\n",
       "</style>\n",
       "<table border=\"1\" class=\"dataframe\">\n",
       "  <thead>\n",
       "    <tr style=\"text-align: right;\">\n",
       "      <th></th>\n",
       "      <th>movieId</th>\n",
       "      <th>title</th>\n",
       "      <th>genres</th>\n",
       "    </tr>\n",
       "  </thead>\n",
       "  <tbody>\n",
       "    <tr>\n",
       "      <th>9737</th>\n",
       "      <td>193581</td>\n",
       "      <td>Black Butler: Book of the Atlantic (2017)</td>\n",
       "      <td>Action|Animation|Comedy|Fantasy</td>\n",
       "    </tr>\n",
       "    <tr>\n",
       "      <th>9738</th>\n",
       "      <td>193583</td>\n",
       "      <td>No Game No Life: Zero (2017)</td>\n",
       "      <td>Animation|Comedy|Fantasy</td>\n",
       "    </tr>\n",
       "    <tr>\n",
       "      <th>9739</th>\n",
       "      <td>193585</td>\n",
       "      <td>Flint (2017)</td>\n",
       "      <td>Drama</td>\n",
       "    </tr>\n",
       "    <tr>\n",
       "      <th>9740</th>\n",
       "      <td>193587</td>\n",
       "      <td>Bungo Stray Dogs: Dead Apple (2018)</td>\n",
       "      <td>Action|Animation</td>\n",
       "    </tr>\n",
       "    <tr>\n",
       "      <th>9741</th>\n",
       "      <td>193609</td>\n",
       "      <td>Andrew Dice Clay: Dice Rules (1991)</td>\n",
       "      <td>Comedy</td>\n",
       "    </tr>\n",
       "  </tbody>\n",
       "</table>\n",
       "</div>"
      ],
      "text/plain": [
       "      movieId                                      title  \\\n",
       "9737   193581  Black Butler: Book of the Atlantic (2017)   \n",
       "9738   193583               No Game No Life: Zero (2017)   \n",
       "9739   193585                               Flint (2017)   \n",
       "9740   193587        Bungo Stray Dogs: Dead Apple (2018)   \n",
       "9741   193609        Andrew Dice Clay: Dice Rules (1991)   \n",
       "\n",
       "                               genres  \n",
       "9737  Action|Animation|Comedy|Fantasy  \n",
       "9738         Animation|Comedy|Fantasy  \n",
       "9739                            Drama  \n",
       "9740                 Action|Animation  \n",
       "9741                           Comedy  "
      ]
     },
     "execution_count": 6,
     "metadata": {},
     "output_type": "execute_result"
    }
   ],
   "source": [
    "df.tail()"
   ]
  },
  {
   "cell_type": "code",
   "execution_count": 7,
   "id": "864573bb",
   "metadata": {},
   "outputs": [
    {
     "name": "stdout",
     "output_type": "stream",
     "text": [
      "<class 'pandas.core.frame.DataFrame'>\n",
      "RangeIndex: 9742 entries, 0 to 9741\n",
      "Data columns (total 3 columns):\n",
      " #   Column   Non-Null Count  Dtype \n",
      "---  ------   --------------  ----- \n",
      " 0   movieId  9742 non-null   int64 \n",
      " 1   title    9742 non-null   object\n",
      " 2   genres   9742 non-null   object\n",
      "dtypes: int64(1), object(2)\n",
      "memory usage: 228.5+ KB\n"
     ]
    }
   ],
   "source": [
    "df.info()"
   ]
  },
  {
   "cell_type": "code",
   "execution_count": 8,
   "id": "0805380f",
   "metadata": {},
   "outputs": [
    {
     "data": {
      "text/html": [
       "<div>\n",
       "<style scoped>\n",
       "    .dataframe tbody tr th:only-of-type {\n",
       "        vertical-align: middle;\n",
       "    }\n",
       "\n",
       "    .dataframe tbody tr th {\n",
       "        vertical-align: top;\n",
       "    }\n",
       "\n",
       "    .dataframe thead th {\n",
       "        text-align: right;\n",
       "    }\n",
       "</style>\n",
       "<table border=\"1\" class=\"dataframe\">\n",
       "  <thead>\n",
       "    <tr style=\"text-align: right;\">\n",
       "      <th></th>\n",
       "      <th>movieId</th>\n",
       "      <th>title</th>\n",
       "      <th>genres</th>\n",
       "    </tr>\n",
       "  </thead>\n",
       "  <tbody>\n",
       "    <tr>\n",
       "      <th>0</th>\n",
       "      <td>False</td>\n",
       "      <td>False</td>\n",
       "      <td>False</td>\n",
       "    </tr>\n",
       "    <tr>\n",
       "      <th>1</th>\n",
       "      <td>False</td>\n",
       "      <td>False</td>\n",
       "      <td>False</td>\n",
       "    </tr>\n",
       "    <tr>\n",
       "      <th>2</th>\n",
       "      <td>False</td>\n",
       "      <td>False</td>\n",
       "      <td>False</td>\n",
       "    </tr>\n",
       "    <tr>\n",
       "      <th>3</th>\n",
       "      <td>False</td>\n",
       "      <td>False</td>\n",
       "      <td>False</td>\n",
       "    </tr>\n",
       "    <tr>\n",
       "      <th>4</th>\n",
       "      <td>False</td>\n",
       "      <td>False</td>\n",
       "      <td>False</td>\n",
       "    </tr>\n",
       "    <tr>\n",
       "      <th>...</th>\n",
       "      <td>...</td>\n",
       "      <td>...</td>\n",
       "      <td>...</td>\n",
       "    </tr>\n",
       "    <tr>\n",
       "      <th>9737</th>\n",
       "      <td>False</td>\n",
       "      <td>False</td>\n",
       "      <td>False</td>\n",
       "    </tr>\n",
       "    <tr>\n",
       "      <th>9738</th>\n",
       "      <td>False</td>\n",
       "      <td>False</td>\n",
       "      <td>False</td>\n",
       "    </tr>\n",
       "    <tr>\n",
       "      <th>9739</th>\n",
       "      <td>False</td>\n",
       "      <td>False</td>\n",
       "      <td>False</td>\n",
       "    </tr>\n",
       "    <tr>\n",
       "      <th>9740</th>\n",
       "      <td>False</td>\n",
       "      <td>False</td>\n",
       "      <td>False</td>\n",
       "    </tr>\n",
       "    <tr>\n",
       "      <th>9741</th>\n",
       "      <td>False</td>\n",
       "      <td>False</td>\n",
       "      <td>False</td>\n",
       "    </tr>\n",
       "  </tbody>\n",
       "</table>\n",
       "<p>9742 rows × 3 columns</p>\n",
       "</div>"
      ],
      "text/plain": [
       "      movieId  title  genres\n",
       "0       False  False   False\n",
       "1       False  False   False\n",
       "2       False  False   False\n",
       "3       False  False   False\n",
       "4       False  False   False\n",
       "...       ...    ...     ...\n",
       "9737    False  False   False\n",
       "9738    False  False   False\n",
       "9739    False  False   False\n",
       "9740    False  False   False\n",
       "9741    False  False   False\n",
       "\n",
       "[9742 rows x 3 columns]"
      ]
     },
     "execution_count": 8,
     "metadata": {},
     "output_type": "execute_result"
    }
   ],
   "source": [
    "df.isnull()"
   ]
  },
  {
   "cell_type": "code",
   "execution_count": 9,
   "id": "fe123f46",
   "metadata": {},
   "outputs": [
    {
     "data": {
      "text/plain": [
       "movieId    0\n",
       "title      0\n",
       "genres     0\n",
       "dtype: int64"
      ]
     },
     "execution_count": 9,
     "metadata": {},
     "output_type": "execute_result"
    }
   ],
   "source": [
    "df.isnull().sum()"
   ]
  },
  {
   "cell_type": "code",
   "execution_count": 10,
   "id": "160d3fd8",
   "metadata": {},
   "outputs": [
    {
     "data": {
      "text/plain": [
       "movieId                                            411115845\n",
       "title      Toy Story (1995)Jumanji (1995)Grumpier Old Men...\n",
       "genres     Adventure|Animation|Children|Comedy|FantasyAdv...\n",
       "dtype: object"
      ]
     },
     "execution_count": 10,
     "metadata": {},
     "output_type": "execute_result"
    }
   ],
   "source": [
    "df.sum()"
   ]
  },
  {
   "cell_type": "code",
   "execution_count": 12,
   "id": "3009de10",
   "metadata": {},
   "outputs": [
    {
     "name": "stdout",
     "output_type": "stream",
     "text": [
      "Columns Name:  Index(['movieId', 'title', 'genres'], dtype='object')\n"
     ]
    }
   ],
   "source": [
    "print('Columns Name: ',df.columns)"
   ]
  },
  {
   "cell_type": "code",
   "execution_count": 13,
   "id": "b71bfa87",
   "metadata": {},
   "outputs": [
    {
     "name": "stdout",
     "output_type": "stream",
     "text": [
      "Shape of Dataset (row x column):  (9742, 3)\n"
     ]
    }
   ],
   "source": [
    "print('Shape of Dataset (row x column): ', df.shape)"
   ]
  },
  {
   "cell_type": "code",
   "execution_count": 14,
   "id": "fa7a1ce5",
   "metadata": {},
   "outputs": [
    {
     "name": "stdout",
     "output_type": "stream",
     "text": [
      "Total Elements in dataset: 29226\n"
     ]
    }
   ],
   "source": [
    "print('Total Elements in dataset:',df.size)"
   ]
  },
  {
   "cell_type": "code",
   "execution_count": 15,
   "id": "c3ec9fa7",
   "metadata": {},
   "outputs": [
    {
     "name": "stdout",
     "output_type": "stream",
     "text": [
      "Datatype of attributes (columns): movieId     int64\n",
      "title      object\n",
      "genres     object\n",
      "dtype: object\n"
     ]
    }
   ],
   "source": [
    "print('Datatype of attributes (columns):',df.dtypes)"
   ]
  },
  {
   "cell_type": "code",
   "execution_count": 21,
   "id": "4c21b1fa",
   "metadata": {},
   "outputs": [
    {
     "name": "stdout",
     "output_type": "stream",
     "text": [
      "First 5 rows:\n",
      " <bound method NDFrame.head of       movieId                                      title  \\\n",
      "0           1                           Toy Story (1995)   \n",
      "1           2                             Jumanji (1995)   \n",
      "2           3                    Grumpier Old Men (1995)   \n",
      "3           4                   Waiting to Exhale (1995)   \n",
      "4           5         Father of the Bride Part II (1995)   \n",
      "...       ...                                        ...   \n",
      "9737   193581  Black Butler: Book of the Atlantic (2017)   \n",
      "9738   193583               No Game No Life: Zero (2017)   \n",
      "9739   193585                               Flint (2017)   \n",
      "9740   193587        Bungo Stray Dogs: Dead Apple (2018)   \n",
      "9741   193609        Andrew Dice Clay: Dice Rules (1991)   \n",
      "\n",
      "                                           genres  \n",
      "0     Adventure|Animation|Children|Comedy|Fantasy  \n",
      "1                      Adventure|Children|Fantasy  \n",
      "2                                  Comedy|Romance  \n",
      "3                            Comedy|Drama|Romance  \n",
      "4                                          Comedy  \n",
      "...                                           ...  \n",
      "9737              Action|Animation|Comedy|Fantasy  \n",
      "9738                     Animation|Comedy|Fantasy  \n",
      "9739                                        Drama  \n",
      "9740                             Action|Animation  \n",
      "9741                                       Comedy  \n",
      "\n",
      "[9742 rows x 3 columns]>\n"
     ]
    }
   ],
   "source": [
    "print('First 5 rows:\\n',df.head)"
   ]
  },
  {
   "cell_type": "code",
   "execution_count": 22,
   "id": "3ee6f08e",
   "metadata": {},
   "outputs": [
    {
     "name": "stdout",
     "output_type": "stream",
     "text": [
      "Statistical information of Numerical Columns: \n",
      "              movieId\n",
      "count    9742.000000\n",
      "mean    42200.353623\n",
      "std     52160.494854\n",
      "min         1.000000\n",
      "25%      3248.250000\n",
      "50%      7300.000000\n",
      "75%     76232.000000\n",
      "max    193609.000000\n"
     ]
    }
   ],
   "source": [
    "print('Statistical information of Numerical Columns: \\n',df.describe())"
   ]
  },
  {
   "cell_type": "code",
   "execution_count": 23,
   "id": "7572d7d9",
   "metadata": {},
   "outputs": [
    {
     "name": "stdout",
     "output_type": "stream",
     "text": [
      "Total Number of Null Values in Dataset:\n",
      " movieId    0\n",
      "title      0\n",
      "genres     0\n",
      "dtype: int64\n"
     ]
    }
   ],
   "source": [
    "print('Total Number of Null Values in Dataset:\\n', df.isna().sum())"
   ]
  },
  {
   "cell_type": "code",
   "execution_count": 24,
   "id": "ceb506e6",
   "metadata": {},
   "outputs": [
    {
     "data": {
      "text/plain": [
       "movieId                        6\n",
       "title                Heat (1995)\n",
       "genres     Action|Crime|Thriller\n",
       "Name: 5, dtype: object"
      ]
     },
     "execution_count": 24,
     "metadata": {},
     "output_type": "execute_result"
    }
   ],
   "source": [
    "df.iloc[5]"
   ]
  },
  {
   "cell_type": "code",
   "execution_count": 25,
   "id": "112560ed",
   "metadata": {},
   "outputs": [
    {
     "data": {
      "text/html": [
       "<div>\n",
       "<style scoped>\n",
       "    .dataframe tbody tr th:only-of-type {\n",
       "        vertical-align: middle;\n",
       "    }\n",
       "\n",
       "    .dataframe tbody tr th {\n",
       "        vertical-align: top;\n",
       "    }\n",
       "\n",
       "    .dataframe thead th {\n",
       "        text-align: right;\n",
       "    }\n",
       "</style>\n",
       "<table border=\"1\" class=\"dataframe\">\n",
       "  <thead>\n",
       "    <tr style=\"text-align: right;\">\n",
       "      <th></th>\n",
       "      <th>movieId</th>\n",
       "      <th>title</th>\n",
       "    </tr>\n",
       "  </thead>\n",
       "  <tbody>\n",
       "    <tr>\n",
       "      <th>3</th>\n",
       "      <td>4</td>\n",
       "      <td>Waiting to Exhale (1995)</td>\n",
       "    </tr>\n",
       "    <tr>\n",
       "      <th>4</th>\n",
       "      <td>5</td>\n",
       "      <td>Father of the Bride Part II (1995)</td>\n",
       "    </tr>\n",
       "  </tbody>\n",
       "</table>\n",
       "</div>"
      ],
      "text/plain": [
       "   movieId                               title\n",
       "3        4            Waiting to Exhale (1995)\n",
       "4        5  Father of the Bride Part II (1995)"
      ]
     },
     "execution_count": 25,
     "metadata": {},
     "output_type": "execute_result"
    }
   ],
   "source": [
    "df.iloc[3:5, 0:2]"
   ]
  },
  {
   "cell_type": "code",
   "execution_count": 26,
   "id": "904dd62c",
   "metadata": {},
   "outputs": [
    {
     "data": {
      "text/plain": [
       "'Jumanji (1995)'"
      ]
     },
     "execution_count": 26,
     "metadata": {},
     "output_type": "execute_result"
    }
   ],
   "source": [
    "df.iloc[1, 1]"
   ]
  },
  {
   "cell_type": "code",
   "execution_count": 29,
   "id": "972f06d5",
   "metadata": {},
   "outputs": [
    {
     "name": "stdout",
     "output_type": "stream",
     "text": [
      "Statistical information of Numerical Columns:\n",
      "           count          mean           std  min      25%     50%      75%  \\\n",
      "movieId  9742.0  42200.353623  52160.494854  1.0  3248.25  7300.0  76232.0   \n",
      "\n",
      "              max  \n",
      "movieId  193609.0  \n"
     ]
    }
   ],
   "source": [
    "print('Statistical information of Numerical Columns:\\n',df.describe().T)"
   ]
  },
  {
   "cell_type": "code",
   "execution_count": 30,
   "id": "51502faf",
   "metadata": {},
   "outputs": [
    {
     "name": "stdout",
     "output_type": "stream",
     "text": [
      "Total Number of Null Values in Dataset:\n",
      "           0      1      2      3      4      5      6      7      8      9     \\\n",
      "movieId  False  False  False  False  False  False  False  False  False  False   \n",
      "title    False  False  False  False  False  False  False  False  False  False   \n",
      "genres   False  False  False  False  False  False  False  False  False  False   \n",
      "\n",
      "         ...   9732   9733   9734   9735   9736   9737   9738   9739   9740  \\\n",
      "movieId  ...  False  False  False  False  False  False  False  False  False   \n",
      "title    ...  False  False  False  False  False  False  False  False  False   \n",
      "genres   ...  False  False  False  False  False  False  False  False  False   \n",
      "\n",
      "          9741  \n",
      "movieId  False  \n",
      "title    False  \n",
      "genres   False  \n",
      "\n",
      "[3 rows x 9742 columns]\n"
     ]
    }
   ],
   "source": [
    "print('Total Number of Null Values in Dataset:\\n', df.isna().T)"
   ]
  },
  {
   "cell_type": "code",
   "execution_count": 31,
   "id": "8ee4f963",
   "metadata": {},
   "outputs": [
    {
     "name": "stdout",
     "output_type": "stream",
     "text": [
      "Total Number of Null Values in Dataset:\n",
      " movieId    0\n",
      "title      0\n",
      "genres     0\n",
      "dtype: int64\n"
     ]
    }
   ],
   "source": [
    "print('Total Number of Null Values in Dataset:\\n', df.isna().sum().T)"
   ]
  },
  {
   "cell_type": "code",
   "execution_count": 32,
   "id": "3ecda228",
   "metadata": {},
   "outputs": [
    {
     "name": "stdout",
     "output_type": "stream",
     "text": [
      "                                                   0  \\\n",
      "movieId                                            1   \n",
      "title                               Toy Story (1995)   \n",
      "genres   Adventure|Animation|Children|Comedy|Fantasy   \n",
      "\n",
      "                                  1                        2  \\\n",
      "movieId                           2                        3   \n",
      "title                Jumanji (1995)  Grumpier Old Men (1995)   \n",
      "genres   Adventure|Children|Fantasy           Comedy|Romance   \n",
      "\n",
      "                                3                                   4  \n",
      "movieId                         4                                   5  \n",
      "title    Waiting to Exhale (1995)  Father of the Bride Part II (1995)  \n",
      "genres       Comedy|Drama|Romance                              Comedy  \n"
     ]
    }
   ],
   "source": [
    "print(df.head().T)"
   ]
  },
  {
   "cell_type": "code",
   "execution_count": 33,
   "id": "0951908f",
   "metadata": {},
   "outputs": [
    {
     "name": "stdout",
     "output_type": "stream",
     "text": [
      "                                                0     \\\n",
      "movieId                                            1   \n",
      "title                               Toy Story (1995)   \n",
      "genres   Adventure|Animation|Children|Comedy|Fantasy   \n",
      "\n",
      "                               1                        2     \\\n",
      "movieId                           2                        3   \n",
      "title                Jumanji (1995)  Grumpier Old Men (1995)   \n",
      "genres   Adventure|Children|Fantasy           Comedy|Romance   \n",
      "\n",
      "                             3                                   4     \\\n",
      "movieId                         4                                   5   \n",
      "title    Waiting to Exhale (1995)  Father of the Bride Part II (1995)   \n",
      "genres       Comedy|Drama|Romance                              Comedy   \n",
      "\n",
      "                          5               6                    7     \\\n",
      "movieId                      6               7                    8   \n",
      "title              Heat (1995)  Sabrina (1995)  Tom and Huck (1995)   \n",
      "genres   Action|Crime|Thriller  Comedy|Romance   Adventure|Children   \n",
      "\n",
      "                        8                          9     ...  \\\n",
      "movieId                    9                         10  ...   \n",
      "title    Sudden Death (1995)           GoldenEye (1995)  ...   \n",
      "genres                Action  Action|Adventure|Thriller  ...   \n",
      "\n",
      "                                   9732  \\\n",
      "movieId                          193565   \n",
      "title         Gintama: The Movie (2010)   \n",
      "genres   Action|Animation|Comedy|Sci-Fi   \n",
      "\n",
      "                                                      9733  \\\n",
      "movieId                                             193567   \n",
      "title    anohana: The Flower We Saw That Day - The Movi...   \n",
      "genres                                     Animation|Drama   \n",
      "\n",
      "                        9734                                     9735  \\\n",
      "movieId               193571                                   193573   \n",
      "title    Silver Spoon (2014)  Love Live! The School Idol Movie (2015)   \n",
      "genres          Comedy|Drama                                Animation   \n",
      "\n",
      "                                             9736  \\\n",
      "movieId                                    193579   \n",
      "title    Jon Stewart Has Left the Building (2015)   \n",
      "genres                                Documentary   \n",
      "\n",
      "                                              9737  \\\n",
      "movieId                                     193581   \n",
      "title    Black Butler: Book of the Atlantic (2017)   \n",
      "genres             Action|Animation|Comedy|Fantasy   \n",
      "\n",
      "                                 9738          9739  \\\n",
      "movieId                        193583        193585   \n",
      "title    No Game No Life: Zero (2017)  Flint (2017)   \n",
      "genres       Animation|Comedy|Fantasy         Drama   \n",
      "\n",
      "                                        9740  \\\n",
      "movieId                               193587   \n",
      "title    Bungo Stray Dogs: Dead Apple (2018)   \n",
      "genres                      Action|Animation   \n",
      "\n",
      "                                        9741  \n",
      "movieId                               193609  \n",
      "title    Andrew Dice Clay: Dice Rules (1991)  \n",
      "genres                                Comedy  \n",
      "\n",
      "[3 rows x 9742 columns]\n"
     ]
    }
   ],
   "source": [
    "print(df.T)"
   ]
  },
  {
   "cell_type": "code",
   "execution_count": null,
   "id": "788f6a2c",
   "metadata": {},
   "outputs": [],
   "source": []
  }
 ],
 "metadata": {
  "kernelspec": {
   "display_name": "Python 3 (ipykernel)",
   "language": "python",
   "name": "python3"
  },
  "language_info": {
   "codemirror_mode": {
    "name": "ipython",
    "version": 3
   },
   "file_extension": ".py",
   "mimetype": "text/x-python",
   "name": "python",
   "nbconvert_exporter": "python",
   "pygments_lexer": "ipython3",
   "version": "3.11.5"
  }
 },
 "nbformat": 4,
 "nbformat_minor": 5
}
